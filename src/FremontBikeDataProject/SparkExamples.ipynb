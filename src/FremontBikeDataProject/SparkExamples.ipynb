{
 "cells": [
  {
   "cell_type": "markdown",
   "id": "55c68d5c",
   "metadata": {},
   "source": [
    "### Spark Example Notebook"
   ]
  },
  {
   "cell_type": "code",
   "execution_count": 8,
   "id": "a2321bc6",
   "metadata": {},
   "outputs": [],
   "source": [
    "from pyspark.sql import SparkSession\n",
    "\n",
    "# Initialize Spark session\n",
    "spark = SparkSession.builder.appName(\"Tree Aggregation Example\").getOrCreate()\n",
    "\n",
    "# Create an RDD of random sensor readings\n",
    "sensor_data = spark.sparkContext.parallelize([random.random() * 100 for _ in range(1000000)])\n",
    "\n",
    "# Perform tree aggregation (treeReduce) to sum the sensor readings efficiently\n",
    "total_sum = sensor_data.treeReduce(lambda a, b: a + b)\n",
    "\n",
    "# Output the result\n",
    "print(f\"Total Sum of Sensor Readings: {total_sum}\")\n",
    "\n",
    "# Stop the Spark session\n",
    "spark.stop()\n"
   ]
  },
  {
   "cell_type": "code",
   "execution_count": 15,
   "id": "9f8484df",
   "metadata": {},
   "outputs": [
    {
     "ename": "SyntaxError",
     "evalue": "invalid syntax (739615713.py, line 1)",
     "output_type": "error",
     "traceback": [
      "\u001b[0;36m  Cell \u001b[0;32mIn[15], line 1\u001b[0;36m\u001b[0m\n\u001b[0;31m    stop()?\u001b[0m\n\u001b[0m          ^\u001b[0m\n\u001b[0;31mSyntaxError\u001b[0m\u001b[0;31m:\u001b[0m invalid syntax\n"
     ]
    }
   ],
   "source": [
    "stop()?"
   ]
  },
  {
   "cell_type": "code",
   "execution_count": 12,
   "id": "7c6c6470",
   "metadata": {},
   "outputs": [],
   "source": [
    "# # Pyspark Application Example\n",
    "# from pyspark.sql import SparkSession\n",
    "# from pyspark.sql.functions import col\n",
    "\n",
    "# # Initialize spark session \n",
    "# spark = SparkSession.builder \\\n",
    "# .appName(\"Pyspark Application Example\") \\\n",
    "# .getOrCreate()\n",
    "\n",
    "# # Sample data as list of tuples\n",
    "# data = [(\"Alice\",34), (\"Bob\", 45), (\"Cathy\", 29), (\"David\", 40)]\n",
    "\n",
    "# # Define a schema\n",
    "# columns = [\"Name\",\"Age\"]\n",
    "\n",
    "# # Create dataframe form the sample data\n",
    "# df = spark.createDataFrame(data,schema=columns)\n",
    "\n",
    "# # Show the dataframe\n",
    "# print(\"Original DataFrame\")\n",
    "# df.show()\n",
    "\n",
    "# # Perform a trasformation: add new column \"AgeGroup\"\n",
    "# df_transformed = df.withColumn(\"AgeGroup\", col(\"Age\") >= 40).withColumn(\"AgeGroup\", col(\"AgeGroup\").cast(\"string\"))\n",
    "\n",
    "# # Show the transformed DataFrame\n",
    "# print(\"Transformed DataFrame:\")\n",
    "# df_transformed.show()\n",
    "\n",
    "# # Perform a action: count the nuber of rows\n",
    "# count = df_transformed.count()\n",
    "# print(f\"Number of rows in the transformed DataFrame: {count}\")\n",
    "\n",
    "\n",
    "# # Perform an action: filter and show records where Age is greater than 40\n",
    "# filtered_df = df_transformed.filter(col(\"Age\") > 40)\n",
    "# print(\"Filtered DataFrame (Age > 30):\")\n",
    "# filtered_df.show()\n",
    "\n",
    "# # Stop the Spark session\n",
    "# spark.stop()\n",
    "\n"
   ]
  },
  {
   "cell_type": "code",
   "execution_count": null,
   "id": "d616888e",
   "metadata": {},
   "outputs": [],
   "source": [
    "# Exmaple of Creating an RDD with Spark Context\n",
    "from pyspark import SparkContext\n",
    "\n",
    "# Initialize Spark Context\n",
    "sc = SparkContext(appName=\"RDD Example\")\n",
    "\n",
    "# Create an RDD from a list\n",
    "data = [1,2,3,4,5]\n",
    "rdd = sc.parallelize(data)\n",
    "\n",
    "# Perform a simple transformation\n",
    "squred_rdd = rdd.map(lambda x : x*x)\n",
    "\n",
    "result = squred_rdd.collect()\n",
    "\n",
    "print(results)\n"
   ]
  }
 ],
 "metadata": {
  "kernelspec": {
   "display_name": "Python 3 (ipykernel)",
   "language": "python",
   "name": "python3"
  },
  "language_info": {
   "codemirror_mode": {
    "name": "ipython",
    "version": 3
   },
   "file_extension": ".py",
   "mimetype": "text/x-python",
   "name": "python",
   "nbconvert_exporter": "python",
   "pygments_lexer": "ipython3",
   "version": "3.11.5"
  }
 },
 "nbformat": 4,
 "nbformat_minor": 5
}
